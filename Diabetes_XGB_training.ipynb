{
 "cells": [
  {
   "cell_type": "code",
   "execution_count": 72,
   "id": "8a66c69e",
   "metadata": {},
   "outputs": [],
   "source": [
    "import pandas as pd\n",
    "from pandasql import sqldf\n",
    "from sklearn.ensemble import RandomForestClassifier\n",
    "from sklearn.linear_model import LogisticRegression\n",
    "from xgboost import XGBClassifier as xgb\n",
    "from sklearn.model_selection import train_test_split\n",
    "from sklearn import metrics\n",
    "from matplotlib import pyplot as plt"
   ]
  },
  {
   "cell_type": "markdown",
   "id": "91972955",
   "metadata": {},
   "source": [
    "## Loading Data"
   ]
  },
  {
   "cell_type": "code",
   "execution_count": 16,
   "id": "9ee18ade",
   "metadata": {},
   "outputs": [
    {
     "data": {
      "text/html": [
       "<div>\n",
       "<style scoped>\n",
       "    .dataframe tbody tr th:only-of-type {\n",
       "        vertical-align: middle;\n",
       "    }\n",
       "\n",
       "    .dataframe tbody tr th {\n",
       "        vertical-align: top;\n",
       "    }\n",
       "\n",
       "    .dataframe thead th {\n",
       "        text-align: right;\n",
       "    }\n",
       "</style>\n",
       "<table border=\"1\" class=\"dataframe\">\n",
       "  <thead>\n",
       "    <tr style=\"text-align: right;\">\n",
       "      <th></th>\n",
       "      <th>Age</th>\n",
       "      <th>Sex</th>\n",
       "      <th>HighChol</th>\n",
       "      <th>CholCheck</th>\n",
       "      <th>BMI</th>\n",
       "      <th>Smoker</th>\n",
       "      <th>PhysActivity</th>\n",
       "      <th>Fruits</th>\n",
       "      <th>Veggies</th>\n",
       "      <th>HvyAlcoholConsump</th>\n",
       "      <th>GenHlth</th>\n",
       "      <th>Diabetes</th>\n",
       "    </tr>\n",
       "  </thead>\n",
       "  <tbody>\n",
       "    <tr>\n",
       "      <th>0</th>\n",
       "      <td>4</td>\n",
       "      <td>1</td>\n",
       "      <td>0</td>\n",
       "      <td>1</td>\n",
       "      <td>26</td>\n",
       "      <td>0</td>\n",
       "      <td>1</td>\n",
       "      <td>0</td>\n",
       "      <td>1</td>\n",
       "      <td>0</td>\n",
       "      <td>3</td>\n",
       "      <td>0</td>\n",
       "    </tr>\n",
       "    <tr>\n",
       "      <th>1</th>\n",
       "      <td>12</td>\n",
       "      <td>1</td>\n",
       "      <td>1</td>\n",
       "      <td>1</td>\n",
       "      <td>26</td>\n",
       "      <td>1</td>\n",
       "      <td>0</td>\n",
       "      <td>1</td>\n",
       "      <td>0</td>\n",
       "      <td>0</td>\n",
       "      <td>3</td>\n",
       "      <td>0</td>\n",
       "    </tr>\n",
       "    <tr>\n",
       "      <th>2</th>\n",
       "      <td>13</td>\n",
       "      <td>1</td>\n",
       "      <td>0</td>\n",
       "      <td>1</td>\n",
       "      <td>26</td>\n",
       "      <td>0</td>\n",
       "      <td>1</td>\n",
       "      <td>1</td>\n",
       "      <td>1</td>\n",
       "      <td>0</td>\n",
       "      <td>1</td>\n",
       "      <td>0</td>\n",
       "    </tr>\n",
       "    <tr>\n",
       "      <th>3</th>\n",
       "      <td>11</td>\n",
       "      <td>1</td>\n",
       "      <td>1</td>\n",
       "      <td>1</td>\n",
       "      <td>28</td>\n",
       "      <td>1</td>\n",
       "      <td>1</td>\n",
       "      <td>1</td>\n",
       "      <td>1</td>\n",
       "      <td>0</td>\n",
       "      <td>3</td>\n",
       "      <td>0</td>\n",
       "    </tr>\n",
       "    <tr>\n",
       "      <th>4</th>\n",
       "      <td>8</td>\n",
       "      <td>0</td>\n",
       "      <td>0</td>\n",
       "      <td>1</td>\n",
       "      <td>29</td>\n",
       "      <td>1</td>\n",
       "      <td>1</td>\n",
       "      <td>1</td>\n",
       "      <td>1</td>\n",
       "      <td>0</td>\n",
       "      <td>2</td>\n",
       "      <td>0</td>\n",
       "    </tr>\n",
       "  </tbody>\n",
       "</table>\n",
       "</div>"
      ],
      "text/plain": [
       "   Age  Sex  HighChol  CholCheck  BMI  Smoker  PhysActivity  Fruits  Veggies  \\\n",
       "0    4    1         0          1   26       0             1       0        1   \n",
       "1   12    1         1          1   26       1             0       1        0   \n",
       "2   13    1         0          1   26       0             1       1        1   \n",
       "3   11    1         1          1   28       1             1       1        1   \n",
       "4    8    0         0          1   29       1             1       1        1   \n",
       "\n",
       "   HvyAlcoholConsump  GenHlth  Diabetes  \n",
       "0                  0        3         0  \n",
       "1                  0        3         0  \n",
       "2                  0        1         0  \n",
       "3                  0        3         0  \n",
       "4                  0        2         0  "
      ]
     },
     "execution_count": 16,
     "metadata": {},
     "output_type": "execute_result"
    }
   ],
   "source": [
    "df=pd.read_csv(\"diabetes_data_clean.csv\")\n",
    "df.head()"
   ]
  },
  {
   "cell_type": "markdown",
   "id": "3e7d478d",
   "metadata": {},
   "source": [
    "## Engineer Features"
   ]
  },
  {
   "cell_type": "code",
   "execution_count": 17,
   "id": "dba40a95",
   "metadata": {},
   "outputs": [
    {
     "data": {
      "text/html": [
       "<div>\n",
       "<style scoped>\n",
       "    .dataframe tbody tr th:only-of-type {\n",
       "        vertical-align: middle;\n",
       "    }\n",
       "\n",
       "    .dataframe tbody tr th {\n",
       "        vertical-align: top;\n",
       "    }\n",
       "\n",
       "    .dataframe thead th {\n",
       "        text-align: right;\n",
       "    }\n",
       "</style>\n",
       "<table border=\"1\" class=\"dataframe\">\n",
       "  <thead>\n",
       "    <tr style=\"text-align: right;\">\n",
       "      <th></th>\n",
       "      <th>age</th>\n",
       "      <th>sex</th>\n",
       "      <th>highchol</th>\n",
       "      <th>cholcheck</th>\n",
       "      <th>bmi</th>\n",
       "      <th>smoker</th>\n",
       "      <th>physactivity</th>\n",
       "      <th>fruits</th>\n",
       "      <th>veggies</th>\n",
       "      <th>hvyalcoholconsump</th>\n",
       "      <th>genhlth</th>\n",
       "      <th>diabetes</th>\n",
       "      <th>bmi_num</th>\n",
       "    </tr>\n",
       "  </thead>\n",
       "  <tbody>\n",
       "    <tr>\n",
       "      <th>0</th>\n",
       "      <td>4</td>\n",
       "      <td>1</td>\n",
       "      <td>0</td>\n",
       "      <td>1</td>\n",
       "      <td>26</td>\n",
       "      <td>0</td>\n",
       "      <td>1</td>\n",
       "      <td>0</td>\n",
       "      <td>1</td>\n",
       "      <td>0</td>\n",
       "      <td>3</td>\n",
       "      <td>0</td>\n",
       "      <td>3</td>\n",
       "    </tr>\n",
       "    <tr>\n",
       "      <th>1</th>\n",
       "      <td>12</td>\n",
       "      <td>1</td>\n",
       "      <td>1</td>\n",
       "      <td>1</td>\n",
       "      <td>26</td>\n",
       "      <td>1</td>\n",
       "      <td>0</td>\n",
       "      <td>1</td>\n",
       "      <td>0</td>\n",
       "      <td>0</td>\n",
       "      <td>3</td>\n",
       "      <td>0</td>\n",
       "      <td>3</td>\n",
       "    </tr>\n",
       "    <tr>\n",
       "      <th>2</th>\n",
       "      <td>13</td>\n",
       "      <td>1</td>\n",
       "      <td>0</td>\n",
       "      <td>1</td>\n",
       "      <td>26</td>\n",
       "      <td>0</td>\n",
       "      <td>1</td>\n",
       "      <td>1</td>\n",
       "      <td>1</td>\n",
       "      <td>0</td>\n",
       "      <td>1</td>\n",
       "      <td>0</td>\n",
       "      <td>3</td>\n",
       "    </tr>\n",
       "    <tr>\n",
       "      <th>3</th>\n",
       "      <td>11</td>\n",
       "      <td>1</td>\n",
       "      <td>1</td>\n",
       "      <td>1</td>\n",
       "      <td>28</td>\n",
       "      <td>1</td>\n",
       "      <td>1</td>\n",
       "      <td>1</td>\n",
       "      <td>1</td>\n",
       "      <td>0</td>\n",
       "      <td>3</td>\n",
       "      <td>0</td>\n",
       "      <td>3</td>\n",
       "    </tr>\n",
       "    <tr>\n",
       "      <th>4</th>\n",
       "      <td>8</td>\n",
       "      <td>0</td>\n",
       "      <td>0</td>\n",
       "      <td>1</td>\n",
       "      <td>29</td>\n",
       "      <td>1</td>\n",
       "      <td>1</td>\n",
       "      <td>1</td>\n",
       "      <td>1</td>\n",
       "      <td>0</td>\n",
       "      <td>2</td>\n",
       "      <td>0</td>\n",
       "      <td>3</td>\n",
       "    </tr>\n",
       "    <tr>\n",
       "      <th>...</th>\n",
       "      <td>...</td>\n",
       "      <td>...</td>\n",
       "      <td>...</td>\n",
       "      <td>...</td>\n",
       "      <td>...</td>\n",
       "      <td>...</td>\n",
       "      <td>...</td>\n",
       "      <td>...</td>\n",
       "      <td>...</td>\n",
       "      <td>...</td>\n",
       "      <td>...</td>\n",
       "      <td>...</td>\n",
       "      <td>...</td>\n",
       "    </tr>\n",
       "    <tr>\n",
       "      <th>70687</th>\n",
       "      <td>6</td>\n",
       "      <td>0</td>\n",
       "      <td>1</td>\n",
       "      <td>1</td>\n",
       "      <td>37</td>\n",
       "      <td>0</td>\n",
       "      <td>0</td>\n",
       "      <td>0</td>\n",
       "      <td>1</td>\n",
       "      <td>0</td>\n",
       "      <td>4</td>\n",
       "      <td>1</td>\n",
       "      <td>4</td>\n",
       "    </tr>\n",
       "    <tr>\n",
       "      <th>70688</th>\n",
       "      <td>10</td>\n",
       "      <td>1</td>\n",
       "      <td>1</td>\n",
       "      <td>1</td>\n",
       "      <td>29</td>\n",
       "      <td>1</td>\n",
       "      <td>0</td>\n",
       "      <td>1</td>\n",
       "      <td>1</td>\n",
       "      <td>0</td>\n",
       "      <td>2</td>\n",
       "      <td>1</td>\n",
       "      <td>3</td>\n",
       "    </tr>\n",
       "    <tr>\n",
       "      <th>70689</th>\n",
       "      <td>13</td>\n",
       "      <td>0</td>\n",
       "      <td>1</td>\n",
       "      <td>1</td>\n",
       "      <td>25</td>\n",
       "      <td>0</td>\n",
       "      <td>0</td>\n",
       "      <td>1</td>\n",
       "      <td>0</td>\n",
       "      <td>0</td>\n",
       "      <td>5</td>\n",
       "      <td>1</td>\n",
       "      <td>2</td>\n",
       "    </tr>\n",
       "    <tr>\n",
       "      <th>70690</th>\n",
       "      <td>11</td>\n",
       "      <td>0</td>\n",
       "      <td>1</td>\n",
       "      <td>1</td>\n",
       "      <td>18</td>\n",
       "      <td>0</td>\n",
       "      <td>0</td>\n",
       "      <td>0</td>\n",
       "      <td>0</td>\n",
       "      <td>0</td>\n",
       "      <td>4</td>\n",
       "      <td>1</td>\n",
       "      <td>1</td>\n",
       "    </tr>\n",
       "    <tr>\n",
       "      <th>70691</th>\n",
       "      <td>9</td>\n",
       "      <td>0</td>\n",
       "      <td>1</td>\n",
       "      <td>1</td>\n",
       "      <td>25</td>\n",
       "      <td>0</td>\n",
       "      <td>1</td>\n",
       "      <td>1</td>\n",
       "      <td>0</td>\n",
       "      <td>0</td>\n",
       "      <td>2</td>\n",
       "      <td>1</td>\n",
       "      <td>2</td>\n",
       "    </tr>\n",
       "  </tbody>\n",
       "</table>\n",
       "<p>70692 rows × 13 columns</p>\n",
       "</div>"
      ],
      "text/plain": [
       "       age  sex  highchol  cholcheck  bmi  smoker  physactivity  fruits  \\\n",
       "0        4    1         0          1   26       0             1       0   \n",
       "1       12    1         1          1   26       1             0       1   \n",
       "2       13    1         0          1   26       0             1       1   \n",
       "3       11    1         1          1   28       1             1       1   \n",
       "4        8    0         0          1   29       1             1       1   \n",
       "...    ...  ...       ...        ...  ...     ...           ...     ...   \n",
       "70687    6    0         1          1   37       0             0       0   \n",
       "70688   10    1         1          1   29       1             0       1   \n",
       "70689   13    0         1          1   25       0             0       1   \n",
       "70690   11    0         1          1   18       0             0       0   \n",
       "70691    9    0         1          1   25       0             1       1   \n",
       "\n",
       "       veggies  hvyalcoholconsump  genhlth  diabetes  bmi_num  \n",
       "0            1                  0        3         0        3  \n",
       "1            0                  0        3         0        3  \n",
       "2            1                  0        1         0        3  \n",
       "3            1                  0        3         0        3  \n",
       "4            1                  0        2         0        3  \n",
       "...        ...                ...      ...       ...      ...  \n",
       "70687        1                  0        4         1        4  \n",
       "70688        1                  0        2         1        3  \n",
       "70689        0                  0        5         1        2  \n",
       "70690        0                  0        4         1        1  \n",
       "70691        0                  0        2         1        2  \n",
       "\n",
       "[70692 rows x 13 columns]"
      ]
     },
     "execution_count": 17,
     "metadata": {},
     "output_type": "execute_result"
    }
   ],
   "source": [
    "#Convert categorical variable into numeric\n",
    "df=sqldf(\"\"\"\n",
    "select*,\n",
    "case when BMI <=15 then 0\n",
    "     when BMI <=20 then 1\n",
    "     when BMI<=25 then 2\n",
    "     when BMI<=30 then 3\n",
    "     else 4\n",
    "     end as BMI_Num\n",
    "from df\n",
    "\"\"\")\n",
    "\n",
    "df.columns = df.columns.str.lower()\n",
    "df"
   ]
  },
  {
   "cell_type": "code",
   "execution_count": 127,
   "id": "c3c8f7ab",
   "metadata": {},
   "outputs": [
    {
     "data": {
      "text/plain": [
       "array([0, 1], dtype=int64)"
      ]
     },
     "execution_count": 127,
     "metadata": {},
     "output_type": "execute_result"
    }
   ],
   "source": [
    "df['diabetes'].unique()"
   ]
  },
  {
   "cell_type": "code",
   "execution_count": 166,
   "id": "a946e0e5",
   "metadata": {},
   "outputs": [
    {
     "name": "stdout",
     "output_type": "stream",
     "text": [
      "(56553, 8)\n",
      "(14139, 8)\n"
     ]
    }
   ],
   "source": [
    "x_train, x_test, y_train, y_test = train_test_split(df.drop([\"diabetes\",\"bmi\",\"cholcheck\",\"sex\",\"highchol\"],axis=1),df['diabetes'],\n",
    "                                                    test_size=0.2,random_state=2022)\n",
    "\n",
    "print(x_train.shape)\n",
    "print(x_test.shape)"
   ]
  },
  {
   "cell_type": "code",
   "execution_count": 189,
   "id": "470330a7",
   "metadata": {},
   "outputs": [
    {
     "name": "stdout",
     "output_type": "stream",
     "text": [
      "[16:53:05] WARNING: C:/Users/Administrator/workspace/xgboost-win64_release_1.5.1/src/learner.cc:1115: Starting in XGBoost 1.3.0, the default evaluation metric used with the objective 'binary:logistic' was changed from 'error' to 'logloss'. Explicitly set eval_metric if you'd like to restore the old behavior.\n"
     ]
    },
    {
     "data": {
      "text/plain": [
       "XGBClassifier(base_score=0.5, booster='gbtree', colsample_bylevel=1,\n",
       "              colsample_bynode=1, colsample_bytree=1, enable_categorical=False,\n",
       "              gamma=1, gpu_id=-1, importance_type=None,\n",
       "              interaction_constraints='', learning_rate=0.1, max_delta_step=0,\n",
       "              max_depth=6, min_child_weight=1, missing=nan,\n",
       "              monotone_constraints='()', n_estimators=1000, n_jobs=8,\n",
       "              num_parallel_tree=1, predictor='auto', random_state=1234,\n",
       "              reg_alpha=0, reg_lambda=1, scale_pos_weight=1, seed=1234,\n",
       "              subsample=1, tree_method='exact', use_label_encoder=False,\n",
       "              validate_parameters=1, verbosity=None)"
      ]
     },
     "execution_count": 189,
     "metadata": {},
     "output_type": "execute_result"
    }
   ],
   "source": [
    "#model=RandomForestClassifier(max_depth=5, n_estimators=100, min_samples_split=2,max_leaf_nodes=5)\n",
    "model=xgb(learning_rate=0.1,n_estimators=1000,max_depth=6,gamma=1,seed=1234, use_label_encoder=False)\n",
    "#model = LogisticRegression(penalty='none')\n",
    "model.fit(x_train,y_train)"
   ]
  },
  {
   "cell_type": "code",
   "execution_count": 190,
   "id": "b9cf7858",
   "metadata": {},
   "outputs": [
    {
     "name": "stdout",
     "output_type": "stream",
     "text": [
      "AR for In Sample is:  0.623973031494736\n",
      "AR for OOT is:  0.6023067985990596\n"
     ]
    }
   ],
   "source": [
    "#ROC / AUC\n",
    "insample_pred=model.predict_proba(x_train)[:,1]\n",
    "oot_pred=model.predict_proba(x_test)[:,1]\n",
    "\n",
    "roc_score_insample=metrics.roc_auc_score(y_train,insample_pred)\n",
    "roc_score_oot=metrics.roc_auc_score(y_test,oot_pred)\n",
    "\n",
    "print(\"AR for In Sample is: \",2*roc_score_insample-1)\n",
    "print(\"AR for OOT is: \",2*roc_score_oot-1)"
   ]
  },
  {
   "cell_type": "code",
   "execution_count": 22,
   "id": "aee6efa8",
   "metadata": {},
   "outputs": [],
   "source": [
    "#Roc Curve\n",
    "fpr_t, tpr_t, thresholds_t = metrics.roc_curve(y_train,insample_pred)\n",
    "fpr_v, tpr_v, thresholds_v = metrics.roc_curve(y_test,oot_pred)"
   ]
  },
  {
   "cell_type": "code",
   "execution_count": 23,
   "id": "2abdb4c9",
   "metadata": {},
   "outputs": [
    {
     "data": {
      "image/png": "[encoded data removed]",
      "text/plain": [
       "<Figure size 432x288 with 1 Axes>"
      ]
     },
     "metadata": {
      "needs_background": "light"
     },
     "output_type": "display_data"
    }
   ],
   "source": [
    "plt.plot(fpr_t,tpr_t, label='training')\n",
    "plt.plot(fpr_v, tpr_v,label='test')\n",
    "plt.xlabel(\"false positive rate\")\n",
    "plt.ylabel(\"true positive rate\")\n",
    "plt.title(\"ROC Curve\")\n",
    "plt.legend()\n",
    "plt.show()"
   ]
  },
  {
   "cell_type": "markdown",
   "id": "04d72232",
   "metadata": {},
   "source": [
    "## Save as pickle file"
   ]
  },
  {
   "cell_type": "code",
   "execution_count": 233,
   "id": "8d2fc736",
   "metadata": {},
   "outputs": [],
   "source": [
    "import pickle\n",
    "\n",
    "filename = 'xgb_diabetes_model_v2.sav'\n",
    "pickle.dump(model, open(filename, 'wb'))"
   ]
  },
  {
   "cell_type": "markdown",
   "id": "0c751106",
   "metadata": {},
   "source": [
    "## Analysing score band"
   ]
  },
  {
   "cell_type": "code",
   "execution_count": 90,
   "id": "5cf94d55",
   "metadata": {},
   "outputs": [],
   "source": [
    "#y_train,insample_pred\n",
    "df_score=pd.DataFrame()\n",
    "df_score['survived']=y_train\n",
    "df_score['pred_probability']=insample_pred"
   ]
  },
  {
   "cell_type": "code",
   "execution_count": 91,
   "id": "ce3adc5a",
   "metadata": {},
   "outputs": [
    {
     "data": {
      "text/plain": [
       "<AxesSubplot:ylabel='Frequency'>"
      ]
     },
     "execution_count": 91,
     "metadata": {},
     "output_type": "execute_result"
    },
    {
     "data": {
      "image/png": "[encoded data removed]",
      "text/plain": [
       "<Figure size 432x288 with 1 Axes>"
      ]
     },
     "metadata": {
      "needs_background": "light"
     },
     "output_type": "display_data"
    }
   ],
   "source": [
    "df_score['pred_probability'].plot.hist(\"pred_probability\")"
   ]
  },
  {
   "cell_type": "code",
   "execution_count": 12,
   "id": "20990cbe",
   "metadata": {},
   "outputs": [],
   "source": [
    "df_score=sqldf(\"\"\"\n",
    "select*,\n",
    "case when pred_probability<=0.13 then 5\n",
    "     when pred_probability>0.13 and pred_probability<=0.30 then 4\n",
    "     when pred_probability>0.30 and pred_probability<=0.48 then 3\n",
    "     when pred_probability>0.48 and pred_probability<=0.91 then 2\n",
    "     else 1\n",
    "     end as score_band\n",
    "from df_score  \n",
    "     \n",
    "     \n",
    "\"\"\")"
   ]
  },
  {
   "cell_type": "code",
   "execution_count": 13,
   "id": "3ca14167",
   "metadata": {},
   "outputs": [
    {
     "data": {
      "text/html": [
       "<div>\n",
       "<style scoped>\n",
       "    .dataframe tbody tr th:only-of-type {\n",
       "        vertical-align: middle;\n",
       "    }\n",
       "\n",
       "    .dataframe tbody tr th {\n",
       "        vertical-align: top;\n",
       "    }\n",
       "\n",
       "    .dataframe thead th {\n",
       "        text-align: right;\n",
       "    }\n",
       "</style>\n",
       "<table border=\"1\" class=\"dataframe\">\n",
       "  <thead>\n",
       "    <tr style=\"text-align: right;\">\n",
       "      <th></th>\n",
       "      <th>score_band</th>\n",
       "      <th>total_survived</th>\n",
       "      <th>total_passengers</th>\n",
       "      <th>max_prob</th>\n",
       "      <th>min_prob</th>\n",
       "      <th>survival_rate</th>\n",
       "    </tr>\n",
       "  </thead>\n",
       "  <tbody>\n",
       "    <tr>\n",
       "      <th>0</th>\n",
       "      <td>1</td>\n",
       "      <td>86</td>\n",
       "      <td>88</td>\n",
       "      <td>0.939840</td>\n",
       "      <td>0.910645</td>\n",
       "      <td>0.977273</td>\n",
       "    </tr>\n",
       "    <tr>\n",
       "      <th>1</th>\n",
       "      <td>2</td>\n",
       "      <td>92</td>\n",
       "      <td>127</td>\n",
       "      <td>0.902520</td>\n",
       "      <td>0.500912</td>\n",
       "      <td>0.724409</td>\n",
       "    </tr>\n",
       "    <tr>\n",
       "      <th>2</th>\n",
       "      <td>3</td>\n",
       "      <td>62</td>\n",
       "      <td>166</td>\n",
       "      <td>0.459341</td>\n",
       "      <td>0.336412</td>\n",
       "      <td>0.373494</td>\n",
       "    </tr>\n",
       "    <tr>\n",
       "      <th>3</th>\n",
       "      <td>4</td>\n",
       "      <td>33</td>\n",
       "      <td>269</td>\n",
       "      <td>0.156164</td>\n",
       "      <td>0.130066</td>\n",
       "      <td>0.122677</td>\n",
       "    </tr>\n",
       "    <tr>\n",
       "      <th>4</th>\n",
       "      <td>5</td>\n",
       "      <td>4</td>\n",
       "      <td>62</td>\n",
       "      <td>0.123959</td>\n",
       "      <td>0.115018</td>\n",
       "      <td>0.064516</td>\n",
       "    </tr>\n",
       "  </tbody>\n",
       "</table>\n",
       "</div>"
      ],
      "text/plain": [
       "   score_band  total_survived  total_passengers  max_prob  min_prob  \\\n",
       "0           1              86                88  0.939840  0.910645   \n",
       "1           2              92               127  0.902520  0.500912   \n",
       "2           3              62               166  0.459341  0.336412   \n",
       "3           4              33               269  0.156164  0.130066   \n",
       "4           5               4                62  0.123959  0.115018   \n",
       "\n",
       "   survival_rate  \n",
       "0       0.977273  \n",
       "1       0.724409  \n",
       "2       0.373494  \n",
       "3       0.122677  \n",
       "4       0.064516  "
      ]
     },
     "execution_count": 13,
     "metadata": {},
     "output_type": "execute_result"
    }
   ],
   "source": [
    "sqldf(\"\"\"\n",
    "select score_band,\n",
    "sum(survived) as total_survived,\n",
    "count(survived) as total_passengers,\n",
    "max(pred_probability) as max_prob,\n",
    "min(pred_probability) as min_prob,\n",
    "sum(survived)*1.0/count(survived) as survival_rate\n",
    "from df_score\n",
    "group by score_band\n",
    "\n",
    "\"\"\")"
   ]
  },
  {
   "cell_type": "markdown",
   "id": "cf0379e0",
   "metadata": {},
   "source": [
    "## Function to manage prediction pipeline"
   ]
  },
  {
   "cell_type": "code",
   "execution_count": 24,
   "id": "7cd8b670",
   "metadata": {},
   "outputs": [
    {
     "data": {
      "text/plain": [
       "Index(['age', 'sex', 'highchol', 'cholcheck', 'bmi', 'smoker', 'physactivity',\n",
       "       'fruits', 'veggies', 'hvyalcoholconsump', 'genhlth', 'diabetes',\n",
       "       'bmi_num'],\n",
       "      dtype='object')"
      ]
     },
     "execution_count": 24,
     "metadata": {},
     "output_type": "execute_result"
    }
   ],
   "source": [
    "df.columns"
   ]
  },
  {
   "cell_type": "code",
   "execution_count": 201,
   "id": "b49e77a1",
   "metadata": {},
   "outputs": [],
   "source": [
    "def diabetes_pipe(in_age, in_bmi, in_smoker, in_physactivity,\n",
    "                  in_fruits, in_veggies, in_hvyalcoholconsump, in_genhlth):\n",
    "    \n",
    "    if in_age<=24:\n",
    "        age=1\n",
    "    elif in_age<=29:\n",
    "        age=2\n",
    "    elif in_age<=34:\n",
    "        age=3\n",
    "    elif in_age<=39:\n",
    "        age=4\n",
    "    elif in_age<=44:\n",
    "        age=5\n",
    "    elif in_age<=49:\n",
    "        age=6\n",
    "    elif in_age<=54:\n",
    "        age=7\n",
    "    elif in_age<=59:\n",
    "        age=8\n",
    "    elif in_age<=64:\n",
    "        age=9\n",
    "    elif in_age<=79:\n",
    "        age=10\n",
    "    elif in_age<=74:\n",
    "        age=11\n",
    "    elif in_age<=79:\n",
    "        age=12\n",
    "    else:\n",
    "        age=13\n",
    "        \n",
    "    if in_bmi<=15:\n",
    "        bmi=0\n",
    "    elif in_bmi<=20:\n",
    "        bmi=1\n",
    "    elif in_bmi<=25:\n",
    "        bmi=2\n",
    "    elif in_bmi<=30:\n",
    "        bmi=3\n",
    "    else:\n",
    "        bmi=4\n",
    "        \n",
    "    if in_sex=='Female':\n",
    "        sex=0\n",
    "    else:\n",
    "        sex=1\n",
    "        \n",
    "    if in_highchol=='Yes':\n",
    "        highchol=1\n",
    "    else:\n",
    "        highchol=0\n",
    "        \n",
    "    if in_cholcheck=='Yes':\n",
    "        cholcheck=1\n",
    "    else:\n",
    "        cholcheck=0\n",
    "    \n",
    "    if in_smoker=='Yes':\n",
    "        smoker=1\n",
    "    else:\n",
    "        smoker=0\n",
    "     \n",
    "    if in_physactivity=='Yes':\n",
    "        physactivity=1\n",
    "    else:\n",
    "        physactivity=0\n",
    "\n",
    "    if in_fruits=='Yes':\n",
    "        fruits=1\n",
    "    else:\n",
    "        fruits=0\n",
    "\n",
    "    if in_veggies=='Yes':\n",
    "        veggies=1\n",
    "    else:\n",
    "        veggies=0\n",
    "        \n",
    "    if in_hvyalcoholconsump=='Yes':\n",
    "        hvyalcoholconsump=1\n",
    "    else:\n",
    "        hvyalcoholconsump=0\n",
    "\n",
    "    if in_genhlth=='Excellent':\n",
    "        genhlth=1\n",
    "    elif in_genhlth=='Good':\n",
    "        genhlth=1\n",
    "    elif in_genhlth=='Fair':\n",
    "        genhlth=3\n",
    "    elif in_genhlth=='Relatively Poor':\n",
    "        genhlth=4\n",
    "    else:\n",
    "        genhlth=5\n",
    "\n",
    "    return age, bmi, smoker, physactivity,fruits, veggies, hvyalcoholconsump, genhlth\n",
    "\n",
    "def diabetes_pred(model_diabetes,age, bmi, smoker, physactivity,\n",
    "                  fruits, veggies, hvyalcoholconsump, genhlth):\n",
    "    df=pd.DataFrame()\n",
    "    df['age']=[age]\n",
    "    df['bmi']=[bmi]\n",
    "    df['smoker']=[smoker]\n",
    "    df['physactivity']=[physactivity]\n",
    "    df['fruits']=[fruits]\n",
    "    df['veggies']=[veggies]\n",
    "    df['hvyalcoholconsump']=[hvyalcoholconsump]\n",
    "    df['genhlth']=[genhlth]\n",
    "    \n",
    "    pred=model_diabetes.predict_proba(df)[:,1]\n",
    "    \n",
    "    if pred<=0.10:\n",
    "        score=1\n",
    "    elif pred<=0.20:\n",
    "        score=2\n",
    "    elif pred<=0.30:\n",
    "        score=3\n",
    "    elif pred<=0.50:\n",
    "        score=4\n",
    "    else:\n",
    "        score=5\n",
    "    \n",
    "    return score, pred\n"
   ]
  },
  {
   "cell_type": "code",
   "execution_count": 297,
   "id": "b0f536d7",
   "metadata": {},
   "outputs": [
    {
     "name": "stdout",
     "output_type": "stream",
     "text": [
      "5 4 1 0 0 0 1 3\n"
     ]
    }
   ],
   "source": [
    "#test\n",
    "in_age=41\n",
    "in_sex=\"Male\"\n",
    "in_highchol=\"Yes\"\n",
    "in_cholcheck=\"Yes\"\n",
    "in_bmi=35\n",
    "in_smoker=\"Yes\"\n",
    "in_physactivity=\"No\"\n",
    "in_fruits=\"No\"\n",
    "in_veggies=\"No\"\n",
    "in_hvyalcoholconsump=\"Yes\"\n",
    "in_genhlth=\"Fair\"\n",
    "\n",
    "x1,x2,x3,x4,x5,x6,x7,x8=diabetes_pipe(in_age, in_bmi, in_smoker, in_physactivity,\n",
    "                                                 in_fruits, in_veggies, in_hvyalcoholconsump, in_genhlth)\n",
    "print(x1,x2,x3,x4,x5,x6,x7,x8)"
   ]
  },
  {
   "cell_type": "code",
   "execution_count": 298,
   "id": "eebca2c0",
   "metadata": {},
   "outputs": [
    {
     "data": {
      "text/plain": [
       "(1, array([0.05236724], dtype=float32))"
      ]
     },
     "execution_count": 298,
     "metadata": {},
     "output_type": "execute_result"
    }
   ],
   "source": [
    "diabetes_pred(model,x1,x2,x3,x4,x5,x6,x7,x8)"
   ]
  },
  {
   "cell_type": "code",
   "execution_count": 188,
   "id": "1ce39e20",
   "metadata": {},
   "outputs": [
    {
     "data": {
      "text/plain": [
       "array([[ 0.22551243,  0.06167334, -0.06789747, -0.07486275, -0.12768924,\n",
       "        -0.7365845 ,  0.72377731,  0.70254159]])"
      ]
     },
     "execution_count": 188,
     "metadata": {},
     "output_type": "execute_result"
    }
   ],
   "source": [
    "model.coef_"
   ]
  },
  {
   "cell_type": "markdown",
   "id": "ac946f4e",
   "metadata": {},
   "source": [
    "## Test load back model"
   ]
  },
  {
   "cell_type": "code",
   "execution_count": 17,
   "id": "02ac8296",
   "metadata": {},
   "outputs": [],
   "source": [
    "load_model = pickle.load(open(filename, 'rb'))"
   ]
  },
  {
   "cell_type": "code",
   "execution_count": 18,
   "id": "41ac4c9e",
   "metadata": {},
   "outputs": [
    {
     "data": {
      "text/plain": [
       "2"
      ]
     },
     "execution_count": 18,
     "metadata": {},
     "output_type": "execute_result"
    }
   ],
   "source": [
    "titanic_pred(load_model,x1,x2,x3,x4)[0]"
   ]
  },
  {
   "cell_type": "code",
   "execution_count": null,
   "id": "713dbf74",
   "metadata": {},
   "outputs": [],
   "source": []
  }
 ],
 "metadata": {
  "kernelspec": {
   "display_name": "Python 3",
   "language": "python",
   "name": "python3"
  },
  "language_info": {
   "codemirror_mode": {
    "name": "ipython",
    "version": 3
   },
   "file_extension": ".py",
   "mimetype": "text/x-python",
   "name": "python",
   "nbconvert_exporter": "python",
   "pygments_lexer": "ipython3",
   "version": "3.6.13"
  }
 },
 "nbformat": 4,
 "nbformat_minor": 5
}
